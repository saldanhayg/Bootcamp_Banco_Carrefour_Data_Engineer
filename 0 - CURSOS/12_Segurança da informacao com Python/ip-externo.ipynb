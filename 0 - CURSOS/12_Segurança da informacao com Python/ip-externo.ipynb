{
 "cells": [
  {
   "cell_type": "code",
   "execution_count": 1,
   "id": "6adf19a4",
   "metadata": {},
   "outputs": [
    {
     "name": "stdout",
     "output_type": "stream",
     "text": [
      "Detalhes do IP externo\n",
      "IP: 179.113.82.156\n",
      "Região: São Paulo\n",
      "País: BR\n",
      "Cidade: São José dos Campos\n",
      "Org: AS26599 TELEFÔNICA BRASIL S.A\n"
     ]
    }
   ],
   "source": [
    "import re\n",
    "import json\n",
    "from urllib.request import urlopen\n",
    "\n",
    "url = 'https://ipinfo.io/json'\n",
    "\n",
    "answer = urlopen(url)\n",
    "\n",
    "data = json.load(answer)\n",
    "\n",
    "ip = data['ip']\n",
    "org = data['org']\n",
    "city = data['city']\n",
    "country = data['country']\n",
    "region = data['region']\n",
    "\n",
    "print(f'''Detalhes do IP externo\\n\\\n",
    "IP: {ip}\\n\\\n",
    "Região: {region}\\n\\\n",
    "País: {country}\\n\\\n",
    "Cidade: {city}\\n\\\n",
    "Org: {org}''')"
   ]
  },
  {
   "cell_type": "code",
   "execution_count": null,
   "id": "d873e12c",
   "metadata": {},
   "outputs": [],
   "source": []
  }
 ],
 "metadata": {
  "kernelspec": {
   "display_name": "Python 3 (ipykernel)",
   "language": "python",
   "name": "python3"
  },
  "language_info": {
   "codemirror_mode": {
    "name": "ipython",
    "version": 3
   },
   "file_extension": ".py",
   "mimetype": "text/x-python",
   "name": "python",
   "nbconvert_exporter": "python",
   "pygments_lexer": "ipython3",
   "version": "3.9.6"
  }
 },
 "nbformat": 4,
 "nbformat_minor": 5
}
