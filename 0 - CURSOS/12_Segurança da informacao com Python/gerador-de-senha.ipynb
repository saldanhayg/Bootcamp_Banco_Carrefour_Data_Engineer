{
 "cells": [
  {
   "cell_type": "code",
   "execution_count": 1,
   "id": "e62c5275",
   "metadata": {},
   "outputs": [
    {
     "name": "stdout",
     "output_type": "stream",
     "text": [
      "eeeiPiIo%z\n"
     ]
    }
   ],
   "source": [
    "import random\n",
    "import string\n",
    "\n",
    "tamanho = 10\n",
    "# ainda é possível gerar senhas a partir de um input, ou seja, quantos caracteres você deseja.\n",
    "#estrutura da senha gerada (o ascii_letters permite as letras em qualquer formato):\n",
    "chars = string.ascii_letters + string.digits + '*?!@#$%¨&'\n",
    "rnd = random.SystemRandom()\n",
    "print(''.join(rnd.choice(chars) for b in range(tamanho)))"
   ]
  },
  {
   "cell_type": "code",
   "execution_count": null,
   "id": "feb25a15",
   "metadata": {},
   "outputs": [],
   "source": []
  }
 ],
 "metadata": {
  "kernelspec": {
   "display_name": "Python 3 (ipykernel)",
   "language": "python",
   "name": "python3"
  },
  "language_info": {
   "codemirror_mode": {
    "name": "ipython",
    "version": 3
   },
   "file_extension": ".py",
   "mimetype": "text/x-python",
   "name": "python",
   "nbconvert_exporter": "python",
   "pygments_lexer": "ipython3",
   "version": "3.9.6"
  }
 },
 "nbformat": 4,
 "nbformat_minor": 5
}
