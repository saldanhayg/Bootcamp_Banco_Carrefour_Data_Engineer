{
 "cells": [
  {
   "cell_type": "code",
   "execution_count": 1,
   "id": "463e8c89",
   "metadata": {},
   "outputs": [
    {
     "name": "stdout",
     "output_type": "stream",
     "text": [
      "Carro A:Carro B: 0\n",
      " 0\n",
      "Carro B:Carro A: 10\n",
      " 20\n",
      "Carro B:Carro A: 20\n",
      " 40\n",
      "Carro B:Carro A: 30\n",
      " 60\n",
      "Carro B:Carro A:  4080\n",
      "\n",
      "Carro B:Carro A:  50\n",
      "100\n",
      "Carro A: 60\n",
      "Carro A: 70\n",
      "Carro A: 80\n",
      "Carro A: 90\n",
      "Carro A: 100\n"
     ]
    }
   ],
   "source": [
    "from threading import Thread\n",
    "from time import sleep\n",
    "def carro1(velocidade, piloto):\n",
    "    trajeto = 0\n",
    "    while trajeto <= 100:\n",
    "        print(f\"Carro {piloto}:\", trajeto)\n",
    "        trajeto += velocidade\n",
    "        sleep(0.5)\n",
    "\n",
    "\n",
    "t1 = Thread(target=carro1, args=[10, \"A\"])\n",
    "t2 = Thread(target=carro1, args=[20, \"B\"])\n",
    "\n",
    "t1.start()\n",
    "t2.start()"
   ]
  },
  {
   "cell_type": "code",
   "execution_count": 4,
   "id": "84198340",
   "metadata": {},
   "outputs": [],
   "source": [
    "import ipaddress\n",
    "\n",
    "ip = \"192.168.0.0/4\""
   ]
  },
  {
   "cell_type": "code",
   "execution_count": null,
   "id": "d5c4f7df",
   "metadata": {},
   "outputs": [],
   "source": []
  }
 ],
 "metadata": {
  "kernelspec": {
   "display_name": "Python 3 (ipykernel)",
   "language": "python",
   "name": "python3"
  },
  "language_info": {
   "codemirror_mode": {
    "name": "ipython",
    "version": 3
   },
   "file_extension": ".py",
   "mimetype": "text/x-python",
   "name": "python",
   "nbconvert_exporter": "python",
   "pygments_lexer": "ipython3",
   "version": "3.9.6"
  }
 },
 "nbformat": 4,
 "nbformat_minor": 5
}
