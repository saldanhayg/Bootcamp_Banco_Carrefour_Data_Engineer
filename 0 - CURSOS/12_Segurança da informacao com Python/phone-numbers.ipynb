{
 "cells": [
  {
   "cell_type": "code",
   "execution_count": 1,
   "id": "b3b9bbe6",
   "metadata": {},
   "outputs": [
    {
     "name": "stdout",
     "output_type": "stream",
     "text": [
      "Collecting phonenumbers\n",
      "  Downloading phonenumbers-8.12.31-py2.py3-none-any.whl (2.6 MB)\n",
      "Installing collected packages: phonenumbers\n",
      "Successfully installed phonenumbers-8.12.31\n",
      "Note: you may need to restart the kernel to use updated packages.\n"
     ]
    }
   ],
   "source": [
    "pip install phonenumbers"
   ]
  },
  {
   "cell_type": "code",
   "execution_count": 1,
   "id": "1cfb4f63",
   "metadata": {},
   "outputs": [
    {
     "name": "stdout",
     "output_type": "stream",
     "text": [
      "Digite o telefone no formato +5551940028922: +5512991619284\n",
      "São Paulo\n"
     ]
    }
   ],
   "source": [
    "import phonenumbers\n",
    "from phonenumbers import geocoder\n",
    "\n",
    "phone = input('Digite o telefone no formato +5551940028922: ')\n",
    "phone_number = phonenumbers.parse(phone)\n",
    "\n",
    "print(geocoder.description_for_number(phone_number, 'pt'))"
   ]
  },
  {
   "cell_type": "code",
   "execution_count": null,
   "id": "7751db71",
   "metadata": {},
   "outputs": [],
   "source": []
  }
 ],
 "metadata": {
  "kernelspec": {
   "display_name": "Python 3 (ipykernel)",
   "language": "python",
   "name": "python3"
  },
  "language_info": {
   "codemirror_mode": {
    "name": "ipython",
    "version": 3
   },
   "file_extension": ".py",
   "mimetype": "text/x-python",
   "name": "python",
   "nbconvert_exporter": "python",
   "pygments_lexer": "ipython3",
   "version": "3.9.6"
  }
 },
 "nbformat": 4,
 "nbformat_minor": 5
}
