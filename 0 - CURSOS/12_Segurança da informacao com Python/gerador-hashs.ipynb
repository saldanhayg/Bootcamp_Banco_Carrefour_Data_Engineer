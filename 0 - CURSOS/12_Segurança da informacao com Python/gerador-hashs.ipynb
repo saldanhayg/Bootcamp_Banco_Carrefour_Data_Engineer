{
 "cells": [
  {
   "cell_type": "code",
   "execution_count": 2,
   "id": "0a516111",
   "metadata": {},
   "outputs": [
    {
     "name": "stdout",
     "output_type": "stream",
     "text": [
      "Digite o texto aqui: 3\n",
      "\n",
      "#### MENU ### \n",
      "ESCOLHA O TIPO DE HASH:\n",
      "1) MD5\n",
      "2) SHA1\n",
      "3) SHA256\n",
      "4) SHA512\n",
      "Digite o número do hash a ser gerado: 3\n",
      "O hash SHA256 da string é:  4e07408562bedb8b60ce05c1decfe3ad16b72230967de01f640b7e4729b49fce\n"
     ]
    }
   ],
   "source": [
    "import hashlib\n",
    "\n",
    "string = input('Digite o texto aqui: ')\n",
    "menu = int(input('''\\n#### MENU ### \n",
    "ESCOLHA O TIPO DE HASH:\n",
    "1) MD5\n",
    "2) SHA1\n",
    "3) SHA256\n",
    "4) SHA512\n",
    "Digite o número do hash a ser gerado: '''))\n",
    "\n",
    "if menu == 1:\n",
    "    result = hashlib.md5(string.encode('utf-8'))\n",
    "    print('O hash MD5 da string é: ', result.hexdigest())\n",
    "elif menu == 2:\n",
    "    result = hashlib.sha1(string.encode('utf-8'))\n",
    "    print('O hash SHA1 da string é: ', result.hexdigest())\n",
    "elif menu == 3:\n",
    "    result = hashlib.sha256(string.encode('utf-8'))\n",
    "    print('O hash SHA256 da string é: ', result.hexdigest())\n",
    "elif menu == 4:\n",
    "    result = hashlib.sha512(string.encode('utf-8'))\n",
    "    print('O hash SHA512 da string é: ', result.hexdigest())\n",
    "else:\n",
    "    print('Algo deu errado. Tente novamente!')"
   ]
  },
  {
   "cell_type": "code",
   "execution_count": null,
   "id": "3635a754",
   "metadata": {},
   "outputs": [],
   "source": []
  }
 ],
 "metadata": {
  "kernelspec": {
   "display_name": "Python 3 (ipykernel)",
   "language": "python",
   "name": "python3"
  },
  "language_info": {
   "codemirror_mode": {
    "name": "ipython",
    "version": 3
   },
   "file_extension": ".py",
   "mimetype": "text/x-python",
   "name": "python",
   "nbconvert_exporter": "python",
   "pygments_lexer": "ipython3",
   "version": "3.9.6"
  }
 },
 "nbformat": 4,
 "nbformat_minor": 5
}
