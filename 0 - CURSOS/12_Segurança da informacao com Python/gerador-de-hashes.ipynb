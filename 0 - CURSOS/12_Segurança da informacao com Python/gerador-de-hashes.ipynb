{
 "cells": [
  {
   "cell_type": "code",
   "execution_count": 1,
   "id": "6e53c088",
   "metadata": {},
   "outputs": [
    {
     "name": "stdout",
     "output_type": "stream",
     "text": [
      "Insira o texto a ser gerado a hash: sucesso\n",
      "## MENU- ESCOLHA O TIPO DE HASH ### \n",
      "1)MD5\n",
      "2)SHA1\n",
      "3)SHA256\n",
      "Insira sua opção: 2\n",
      "o hash da string sucesso é:  77ed1c1d1a178ec8a4b94a4bfbd34b1b41fe9929\n"
     ]
    }
   ],
   "source": [
    "import hashlib\n",
    "\n",
    "string = input('Insira o texto a ser gerado a hash: ')\n",
    "menu = int(input('''## MENU- ESCOLHA O TIPO DE HASH ### \\n1)MD5\\n2)SHA1\\n3)SHA256\\nInsira sua opção: '''))\n",
    "\n",
    "if menu == 1:\n",
    "    result = hashlib.md5(string.encode('utf-8'))\n",
    "    print(f'o hash da string {string} é: ', result.hexdigest())\n",
    "elif menu == 2:\n",
    "    result = hashlib.sha1(string.encode('utf-8'))\n",
    "    print(f'o hash da string {string} é: ', result.hexdigest())\n",
    "elif menu == 3:\n",
    "    result = hashlib.sha256(string.encode('utf-8'))\n",
    "    print(f'o hash da string {string} é: ', result.hexdigest())\n",
    "else:\n",
    "    print('Algo deu errado. Tente novamente.')"
   ]
  },
  {
   "cell_type": "code",
   "execution_count": null,
   "id": "95226b77",
   "metadata": {},
   "outputs": [],
   "source": []
  }
 ],
 "metadata": {
  "kernelspec": {
   "display_name": "Python 3 (ipykernel)",
   "language": "python",
   "name": "python3"
  },
  "language_info": {
   "codemirror_mode": {
    "name": "ipython",
    "version": 3
   },
   "file_extension": ".py",
   "mimetype": "text/x-python",
   "name": "python",
   "nbconvert_exporter": "python",
   "pygments_lexer": "ipython3",
   "version": "3.9.6"
  }
 },
 "nbformat": 4,
 "nbformat_minor": 5
}
