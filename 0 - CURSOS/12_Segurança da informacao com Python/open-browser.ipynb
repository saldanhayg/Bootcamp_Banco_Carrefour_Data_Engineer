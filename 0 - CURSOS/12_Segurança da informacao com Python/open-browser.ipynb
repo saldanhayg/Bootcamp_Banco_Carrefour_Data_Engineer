{
 "cells": [
  {
   "cell_type": "code",
   "execution_count": null,
   "id": "d438dc2d",
   "metadata": {},
   "outputs": [],
   "source": [
    "import webbrowser\n",
    "from tkinter import *\n",
    "\n",
    "root = Tk( )\n",
    "\n",
    "root.title('Meu Portfólio')\n",
    "root.geometry('300x200')\n",
    "\n",
    "\n",
    "def tag():\n",
    "    webbrowser.open('https://github.com/saldanhayg/100DaysOfSaldanha')\n",
    "\n",
    "\n",
    "myTag = Button(root, text='Clique para Abrir', command=tag).pack(pady=20)\n",
    "root.mainloop()"
   ]
  },
  {
   "cell_type": "code",
   "execution_count": null,
   "id": "93dc0d0b",
   "metadata": {},
   "outputs": [],
   "source": []
  }
 ],
 "metadata": {
  "kernelspec": {
   "display_name": "Python 3 (ipykernel)",
   "language": "python",
   "name": "python3"
  },
  "language_info": {
   "codemirror_mode": {
    "name": "ipython",
    "version": 3
   },
   "file_extension": ".py",
   "mimetype": "text/x-python",
   "name": "python",
   "nbconvert_exporter": "python",
   "pygments_lexer": "ipython3",
   "version": "3.9.6"
  }
 },
 "nbformat": 4,
 "nbformat_minor": 5
}
